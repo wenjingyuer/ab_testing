{
 "cells": [
  {
   "cell_type": "markdown",
   "source": [
    "# 【A/B测试】支付宝营销策略效果分析\n",
    "\n",
    "## 1. 数据来源\n",
    "数据集来自阿里云天池：\n",
    "[阿里云天池 - Audience Expansion Dataset](https://tianchi.aliyun.com/dataset/dataDetail?dataId=50893&lang=zh-cn)\n",
    "\n",
    "该数据集包含三张表，分别记录了支付宝两组营销策略的活动情况：\n",
    "\n",
    "+ emb_tb_2.csv: 用户特征数据集\n",
    "+ effect_tb.csv: 广告点击情况数据集\n",
    "+ seed_cand_tb.csv: 用户类型数据集\n",
    "本分析报告主要使用广告点击情况数据，涉及字段如下：\n",
    "\n",
    "+ dmp_id：营销策略编号（源数据文档未作说明，这里根据数据情况设定为1：对照组，2：营销策略一，3：营销策略二）\n",
    "+ user_id：支付宝用户ID\n",
    "+ label：用户当天是否点击活动广告（0：未点击，1：点击）"
   ],
   "metadata": {
    "collapsed": false
   }
  },
  {
   "cell_type": "code",
   "execution_count": 14,
   "id": "c7e24e72",
   "metadata": {},
   "outputs": [],
   "source": [
    "import pandas as pd\n",
    "import numpy as np"
   ]
  },
  {
   "cell_type": "markdown",
   "source": [
    "## 2. 数据处理\n",
    "\n",
    "### 2.1 数据导入和清洗"
   ],
   "metadata": {
    "collapsed": false
   }
  },
  {
   "cell_type": "code",
   "execution_count": 15,
   "id": "714940d8",
   "metadata": {},
   "outputs": [
    {
     "data": {
      "text/plain": "   user_id  label  dmp_id\n0        1      0       1\n1  1000004      0       1\n2  1000004      0       2",
      "text/html": "<div>\n<style scoped>\n    .dataframe tbody tr th:only-of-type {\n        vertical-align: middle;\n    }\n\n    .dataframe tbody tr th {\n        vertical-align: top;\n    }\n\n    .dataframe thead th {\n        text-align: right;\n    }\n</style>\n<table border=\"1\" class=\"dataframe\">\n  <thead>\n    <tr style=\"text-align: right;\">\n      <th></th>\n      <th>user_id</th>\n      <th>label</th>\n      <th>dmp_id</th>\n    </tr>\n  </thead>\n  <tbody>\n    <tr>\n      <th>0</th>\n      <td>1</td>\n      <td>0</td>\n      <td>1</td>\n    </tr>\n    <tr>\n      <th>1</th>\n      <td>1000004</td>\n      <td>0</td>\n      <td>1</td>\n    </tr>\n    <tr>\n      <th>2</th>\n      <td>1000004</td>\n      <td>0</td>\n      <td>2</td>\n    </tr>\n  </tbody>\n</table>\n</div>"
     },
     "execution_count": 15,
     "metadata": {},
     "output_type": "execute_result"
    }
   ],
   "source": [
    "# 加载数据，自定义原始数据 header\n",
    "data = pd.read_csv('https://ds-1300369208.cos.ap-shanghai.myqcloud.com/effect_tb.csv',header = None)\n",
    "data.columns = [\"dt\",\"user_id\",\"label\",\"dmp_id\"]\n",
    "\n",
    "# 日志天数属性用不上，删除该列\n",
    "data = data.drop(columns = \"dt\")\n",
    "data.head(3)"
   ]
  },
  {
   "cell_type": "code",
   "execution_count": 16,
   "outputs": [
    {
     "data": {
      "text/plain": "            user_id         label        dmp_id\ncount  2.645958e+06  2.645958e+06  2.645958e+06\nmean   3.112995e+06  1.456297e-02  1.395761e+00\nstd    1.828262e+06  1.197952e-01  6.920480e-01\nmin    1.000000e+00  0.000000e+00  1.000000e+00\n25%    1.526772e+06  0.000000e+00  1.000000e+00\n50%    3.062184e+06  0.000000e+00  1.000000e+00\n75%    4.721132e+06  0.000000e+00  2.000000e+00\nmax    6.265402e+06  1.000000e+00  3.000000e+00",
      "text/html": "<div>\n<style scoped>\n    .dataframe tbody tr th:only-of-type {\n        vertical-align: middle;\n    }\n\n    .dataframe tbody tr th {\n        vertical-align: top;\n    }\n\n    .dataframe thead th {\n        text-align: right;\n    }\n</style>\n<table border=\"1\" class=\"dataframe\">\n  <thead>\n    <tr style=\"text-align: right;\">\n      <th></th>\n      <th>user_id</th>\n      <th>label</th>\n      <th>dmp_id</th>\n    </tr>\n  </thead>\n  <tbody>\n    <tr>\n      <th>count</th>\n      <td>2.645958e+06</td>\n      <td>2.645958e+06</td>\n      <td>2.645958e+06</td>\n    </tr>\n    <tr>\n      <th>mean</th>\n      <td>3.112995e+06</td>\n      <td>1.456297e-02</td>\n      <td>1.395761e+00</td>\n    </tr>\n    <tr>\n      <th>std</th>\n      <td>1.828262e+06</td>\n      <td>1.197952e-01</td>\n      <td>6.920480e-01</td>\n    </tr>\n    <tr>\n      <th>min</th>\n      <td>1.000000e+00</td>\n      <td>0.000000e+00</td>\n      <td>1.000000e+00</td>\n    </tr>\n    <tr>\n      <th>25%</th>\n      <td>1.526772e+06</td>\n      <td>0.000000e+00</td>\n      <td>1.000000e+00</td>\n    </tr>\n    <tr>\n      <th>50%</th>\n      <td>3.062184e+06</td>\n      <td>0.000000e+00</td>\n      <td>1.000000e+00</td>\n    </tr>\n    <tr>\n      <th>75%</th>\n      <td>4.721132e+06</td>\n      <td>0.000000e+00</td>\n      <td>2.000000e+00</td>\n    </tr>\n    <tr>\n      <th>max</th>\n      <td>6.265402e+06</td>\n      <td>1.000000e+00</td>\n      <td>3.000000e+00</td>\n    </tr>\n  </tbody>\n</table>\n</div>"
     },
     "execution_count": 16,
     "metadata": {},
     "output_type": "execute_result"
    }
   ],
   "source": [
    "# 描述性统计\n",
    "data.describe()"
   ],
   "metadata": {
    "collapsed": false,
    "pycharm": {
     "name": "#%%\n"
    }
   }
  },
  {
   "cell_type": "markdown",
   "source": [
    "### 重复值处理"
   ],
   "metadata": {
    "collapsed": false
   }
  },
  {
   "cell_type": "code",
   "execution_count": 17,
   "outputs": [
    {
     "data": {
      "text/plain": "(2645958, 3)"
     },
     "execution_count": 17,
     "metadata": {},
     "output_type": "execute_result"
    }
   ],
   "source": [
    "data.shape"
   ],
   "metadata": {
    "collapsed": false,
    "pycharm": {
     "name": "#%%\n"
    }
   }
  },
  {
   "cell_type": "markdown",
   "source": [
    "数据行数与独立用户数不统一，检查是否存在重复行："
   ],
   "metadata": {
    "collapsed": false
   }
  },
  {
   "cell_type": "code",
   "execution_count": 18,
   "outputs": [
    {
     "data": {
      "text/plain": "         user_id  label  dmp_id\n8529        1027      0       1\n1485546     1027      0       1\n1579415     1471      0       1\n127827      1471      0       1\n404862      2468      0       1\n...          ...    ...     ...\n1382121  6264633      0       1\n1382245  6264940      0       1\n2575140  6264940      0       1\n1382306  6265082      0       3\n2575171  6265082      0       3\n\n[25966 rows x 3 columns]",
      "text/html": "<div>\n<style scoped>\n    .dataframe tbody tr th:only-of-type {\n        vertical-align: middle;\n    }\n\n    .dataframe tbody tr th {\n        vertical-align: top;\n    }\n\n    .dataframe thead th {\n        text-align: right;\n    }\n</style>\n<table border=\"1\" class=\"dataframe\">\n  <thead>\n    <tr style=\"text-align: right;\">\n      <th></th>\n      <th>user_id</th>\n      <th>label</th>\n      <th>dmp_id</th>\n    </tr>\n  </thead>\n  <tbody>\n    <tr>\n      <th>8529</th>\n      <td>1027</td>\n      <td>0</td>\n      <td>1</td>\n    </tr>\n    <tr>\n      <th>1485546</th>\n      <td>1027</td>\n      <td>0</td>\n      <td>1</td>\n    </tr>\n    <tr>\n      <th>1579415</th>\n      <td>1471</td>\n      <td>0</td>\n      <td>1</td>\n    </tr>\n    <tr>\n      <th>127827</th>\n      <td>1471</td>\n      <td>0</td>\n      <td>1</td>\n    </tr>\n    <tr>\n      <th>404862</th>\n      <td>2468</td>\n      <td>0</td>\n      <td>1</td>\n    </tr>\n    <tr>\n      <th>...</th>\n      <td>...</td>\n      <td>...</td>\n      <td>...</td>\n    </tr>\n    <tr>\n      <th>1382121</th>\n      <td>6264633</td>\n      <td>0</td>\n      <td>1</td>\n    </tr>\n    <tr>\n      <th>1382245</th>\n      <td>6264940</td>\n      <td>0</td>\n      <td>1</td>\n    </tr>\n    <tr>\n      <th>2575140</th>\n      <td>6264940</td>\n      <td>0</td>\n      <td>1</td>\n    </tr>\n    <tr>\n      <th>1382306</th>\n      <td>6265082</td>\n      <td>0</td>\n      <td>3</td>\n    </tr>\n    <tr>\n      <th>2575171</th>\n      <td>6265082</td>\n      <td>0</td>\n      <td>3</td>\n    </tr>\n  </tbody>\n</table>\n<p>25966 rows × 3 columns</p>\n</div>"
     },
     "execution_count": 18,
     "metadata": {},
     "output_type": "execute_result"
    }
   ],
   "source": [
    "data[data.duplicated(keep = False)].sort_values(by = [\"user_id\"])"
   ],
   "metadata": {
    "collapsed": false,
    "pycharm": {
     "name": "#%%\n"
    }
   }
  },
  {
   "cell_type": "code",
   "execution_count": 19,
   "outputs": [
    {
     "data": {
      "text/plain": "user_id    2410683\nlabel            2\ndmp_id           3\ndtype: int64"
     },
     "execution_count": 19,
     "metadata": {},
     "output_type": "execute_result"
    }
   ],
   "source": [
    "data.nunique()"
   ],
   "metadata": {
    "collapsed": false,
    "pycharm": {
     "name": "#%%\n"
    }
   }
  },
  {
   "cell_type": "markdown",
   "source": [
    "删除重复行，并再次检查"
   ],
   "metadata": {
    "collapsed": false
   }
  },
  {
   "cell_type": "code",
   "execution_count": 20,
   "outputs": [
    {
     "data": {
      "text/plain": "Empty DataFrame\nColumns: [user_id, label, dmp_id]\nIndex: []",
      "text/html": "<div>\n<style scoped>\n    .dataframe tbody tr th:only-of-type {\n        vertical-align: middle;\n    }\n\n    .dataframe tbody tr th {\n        vertical-align: top;\n    }\n\n    .dataframe thead th {\n        text-align: right;\n    }\n</style>\n<table border=\"1\" class=\"dataframe\">\n  <thead>\n    <tr style=\"text-align: right;\">\n      <th></th>\n      <th>user_id</th>\n      <th>label</th>\n      <th>dmp_id</th>\n    </tr>\n  </thead>\n  <tbody>\n  </tbody>\n</table>\n</div>"
     },
     "execution_count": 20,
     "metadata": {},
     "output_type": "execute_result"
    }
   ],
   "source": [
    "# drop duplicate\n",
    "data = data.drop_duplicates()\n",
    "\n",
    "# check if any duplicates left\n",
    "data[data.duplicated(keep = False)]"
   ],
   "metadata": {
    "collapsed": false,
    "pycharm": {
     "name": "#%%\n"
    }
   }
  },
  {
   "cell_type": "markdown",
   "source": [
    "### 空值处理"
   ],
   "metadata": {
    "collapsed": false
   }
  },
  {
   "cell_type": "code",
   "execution_count": 21,
   "outputs": [
    {
     "name": "stdout",
     "output_type": "stream",
     "text": [
      "<class 'pandas.core.frame.DataFrame'>\n",
      "Int64Index: 2632975 entries, 0 to 2645957\n",
      "Data columns (total 3 columns):\n",
      " #   Column   Non-Null Count    Dtype\n",
      "---  ------   --------------    -----\n",
      " 0   user_id  2632975 non-null  int64\n",
      " 1   label    2632975 non-null  int64\n",
      " 2   dmp_id   2632975 non-null  int64\n",
      "dtypes: int64(3)\n",
      "memory usage: 80.4 MB\n"
     ]
    }
   ],
   "source": [
    "# check null values\n",
    "data.info(show_counts = True)"
   ],
   "metadata": {
    "collapsed": false,
    "pycharm": {
     "name": "#%%\n"
    }
   }
  },
  {
   "cell_type": "markdown",
   "source": [
    "数据集无空值，无需进行处理。\n",
    "\n",
    "空值的处理流程：[pandas dataframe空值的处理方法](https://zhuanlan.zhihu.com/p/35321806)"
   ],
   "metadata": {
    "collapsed": false
   }
  },
  {
   "cell_type": "markdown",
   "source": [
    "### 异常值处理\n",
    "\n",
    "通过透视表检查各属性字段是否存在不合理取值，同时查看每个分析组别的样本数量"
   ],
   "metadata": {
    "collapsed": false
   }
  },
  {
   "cell_type": "code",
   "execution_count": 22,
   "outputs": [
    {
     "data": {
      "text/plain": "label         0      1      All\ndmp_id                         \n1       1881745  23918  1905663\n2        404811   6296   411107\n3        307923   8282   316205\nAll     2594479  38496  2632975",
      "text/html": "<div>\n<style scoped>\n    .dataframe tbody tr th:only-of-type {\n        vertical-align: middle;\n    }\n\n    .dataframe tbody tr th {\n        vertical-align: top;\n    }\n\n    .dataframe thead th {\n        text-align: right;\n    }\n</style>\n<table border=\"1\" class=\"dataframe\">\n  <thead>\n    <tr style=\"text-align: right;\">\n      <th>label</th>\n      <th>0</th>\n      <th>1</th>\n      <th>All</th>\n    </tr>\n    <tr>\n      <th>dmp_id</th>\n      <th></th>\n      <th></th>\n      <th></th>\n    </tr>\n  </thead>\n  <tbody>\n    <tr>\n      <th>1</th>\n      <td>1881745</td>\n      <td>23918</td>\n      <td>1905663</td>\n    </tr>\n    <tr>\n      <th>2</th>\n      <td>404811</td>\n      <td>6296</td>\n      <td>411107</td>\n    </tr>\n    <tr>\n      <th>3</th>\n      <td>307923</td>\n      <td>8282</td>\n      <td>316205</td>\n    </tr>\n    <tr>\n      <th>All</th>\n      <td>2594479</td>\n      <td>38496</td>\n      <td>2632975</td>\n    </tr>\n  </tbody>\n</table>\n</div>"
     },
     "execution_count": 22,
     "metadata": {},
     "output_type": "execute_result"
    }
   ],
   "source": [
    "data.pivot_table(index = \"dmp_id\", columns = \"label\", values = \"user_id\",\n",
    "                aggfunc = \"count\", margins = True)"
   ],
   "metadata": {
    "collapsed": false,
    "pycharm": {
     "name": "#%%\n"
    }
   }
  },
  {
   "cell_type": "markdown",
   "source": [
    "属性字段未发现异常取值，无需进行处理。"
   ],
   "metadata": {
    "collapsed": false
   }
  },
  {
   "cell_type": "markdown",
   "source": [
    "### 2.2 样本容量检验\n",
    "\n",
    "在进行A/B测试前，需检查样本容量是否满足试验所需最小值。这里借助Evan Miller的样本量计算工具：[Sample Size Calculator](https://www.evanmiller.org/ab-testing/sample-size.html)\n",
    "\n",
    "首先需要设定点击率基准线以及最小提升比例，我们将对照组的点击率设为基准线."
   ],
   "metadata": {
    "collapsed": false
   }
  },
  {
   "cell_type": "code",
   "execution_count": 23,
   "outputs": [
    {
     "data": {
      "text/plain": "0.012551012429794775"
     },
     "execution_count": 23,
     "metadata": {},
     "output_type": "execute_result"
    }
   ],
   "source": [
    "# 计算对照组的点击率\n",
    "data[data[\"dmp_id\"] == 1][\"label\"].mean()"
   ],
   "metadata": {
    "collapsed": false,
    "pycharm": {
     "name": "#%%\n"
    }
   }
  },
  {
   "cell_type": "markdown",
   "source": [
    "对照组点击率为1.25%，假定我们希望新的营销策略能让广告点击率至少提升1个百分点，则算得所需最小样本量为：2152。\n",
    "\n",
    "[计算流程](https://www.evanmiller.org/ab-testing/sample-size.html#!1.25;80;5;1;0)\n",
    "\n",
    "[A/B实验样本量计算原理](https://blog.csdn.net/weixin_41744624/article/details/109840263)"
   ],
   "metadata": {
    "collapsed": false
   }
  },
  {
   "cell_type": "code",
   "execution_count": 24,
   "outputs": [
    {
     "data": {
      "text/plain": "1    1905663\n2     411107\n3     316205\nName: dmp_id, dtype: int64"
     },
     "execution_count": 24,
     "metadata": {},
     "output_type": "execute_result"
    }
   ],
   "source": [
    "data[\"dmp_id\"].value_counts()"
   ],
   "metadata": {
    "collapsed": false,
    "pycharm": {
     "name": "#%%\n"
    }
   }
  },
  {
   "cell_type": "markdown",
   "source": [
    "两组营销活动的样本量分别为41.11万和31.62万，满足最小样本量需求。"
   ],
   "metadata": {
    "collapsed": false
   }
  },
  {
   "cell_type": "code",
   "execution_count": 25,
   "outputs": [],
   "source": [
    "# 保存清洗好的数据备用\n",
    "data.to_csv(\"data/output.csv\", index = False)"
   ],
   "metadata": {
    "collapsed": false,
    "pycharm": {
     "name": "#%%\n"
    }
   }
  }
 ],
 "metadata": {
  "kernelspec": {
   "display_name": "Python 3 (ipykernel)",
   "language": "python",
   "name": "python3"
  },
  "language_info": {
   "codemirror_mode": {
    "name": "ipython",
    "version": 3
   },
   "file_extension": ".py",
   "mimetype": "text/x-python",
   "name": "python",
   "nbconvert_exporter": "python",
   "pygments_lexer": "ipython3",
   "version": "3.8.13"
  }
 },
 "nbformat": 4,
 "nbformat_minor": 5
}