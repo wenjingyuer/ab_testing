{
 "cells": [
  {
   "cell_type": "markdown",
   "source": [
    "## 推论统计分析\n",
    "\n",
    "首先观察几组试验的点击率情况。"
   ],
   "metadata": {
    "collapsed": false
   }
  },
  {
   "cell_type": "code",
   "execution_count": 16,
   "metadata": {
    "collapsed": true
   },
   "outputs": [
    {
     "name": "stdout",
     "output_type": "stream",
     "text": [
      "对  照  组：  0.012551012429794775\n",
      "营销策略一：  0.015314747742072015\n",
      "营销策略二：  0.026191869198779274\n"
     ]
    }
   ],
   "source": [
    "import pandas as pd\n",
    "import numpy as np\n",
    "import statsmodels.stats.proportion as sp\n",
    "from scipy.stats import norm\n",
    "\n",
    "data = pd.read_csv(\"data/output.csv\")\n",
    "print(\"对  照  组： \" ,data[data[\"dmp_id\"] == 1][\"label\"].mean())\n",
    "print(\"营销策略一： \" ,data[data[\"dmp_id\"] == 2][\"label\"].mean())\n",
    "print(\"营销策略二： \" ,data[data[\"dmp_id\"] == 3][\"label\"].mean())"
   ]
  },
  {
   "cell_type": "markdown",
   "source": [
    "##1.设计假设\n",
    "可以看到策略一和策略二相较对照组在点击率上都有不同程度提升。\n",
    "\n",
    "其中策略一提升0.2个百分点，策略二提升1.3个百分点，只有策略二满足了前面我们对点击率提升最小值（1%）的要求。\n",
    "\n",
    "接下来需要进行假设检验，看策略二点击率的提升是否显著。\n",
    "\n",
    "**零假设和备择假设**\n",
    "记对照组点击率为p1，策略二点击率为p2，则：\n",
    "\n",
    "零假设,策略二组相比于对照组没有优势， H0： p1 ≥ p2\n",
    "\n",
    "备择假设，策略二组效果好于对照组 H1： p1 ＜ p2\n",
    "\n",
    "\n",
    "## 2. 确定分布类型、检验类型、显著性水平和功效\n",
    "\n",
    "样本服从二点分布，独立双样本，样本大小n＞30，总体均值和标准差未知，所以采用Z检验，显著性水平α取0.05，功效取0.8。\n",
    "\n",
    "由H1得应该使用单尾检验"
   ],
   "metadata": {
    "collapsed": false,
    "pycharm": {
     "name": "#%% md\n"
    }
   }
  },
  {
   "cell_type": "code",
   "execution_count": 17,
   "outputs": [],
   "source": [
    "# 用户数\n",
    "n_old = data.query('dmp_id == 1').shape[0]  # 对照组\n",
    "n_new = data.query('dmp_id == 3').shape[0]  # 策略二\n",
    "\n",
    "# 点击数\n",
    "c_old = data.query('dmp_id == 1 & label == 1').shape[0]\n",
    "c_new = data.query('dmp_id == 3 & label == 1').shape[0]\n",
    "\n",
    "# 计算点击率\n",
    "r_old = c_old / n_old\n",
    "r_new = c_new / n_new\n",
    "\n",
    "# 总和点击率\n",
    "r = (c_old + c_new) / (n_old + n_new)"
   ],
   "metadata": {
    "collapsed": false,
    "pycharm": {
     "name": "#%%\n"
    }
   }
  },
  {
   "cell_type": "markdown",
   "source": [
    "## 3. 计算z值和p值\n",
    "直接用python statsmodels包计算z值和p值。\n",
    "\n",
    "`proportions_ztest([对照组分子,实验组分子],[对照组分母,实验组分母],alternative='smaller')`\n",
    "\n",
    "备择假设中，对照组比率表现<实验组，则alternative='smaller'"
   ],
   "metadata": {
    "collapsed": false
   }
  },
  {
   "cell_type": "code",
   "execution_count": 18,
   "outputs": [
    {
     "name": "stdout",
     "output_type": "stream",
     "text": [
      "检验统计量z： -59.44168632985996 ，p值： 0.0\n"
     ]
    }
   ],
   "source": [
    "z_score, p = sp.proportions_ztest([c_old, c_new],[n_old, n_new], alternative = \"smaller\")\n",
    "print(\"检验统计量z：\",z_score,\"，p值：\", p)"
   ],
   "metadata": {
    "collapsed": false,
    "pycharm": {
     "name": "#%%\n"
    }
   }
  },
  {
   "cell_type": "markdown",
   "source": [
    "**|z| > 2.58,因此实验效果非常显著**\n",
    "\n",
    "**p值约等于0，p ＜ α(0.05)**，拒绝原假设。策略二的点击率好于原方案\n",
    "\n",
    "\n",
    "\n",
    "## 4. 根据cohen's d看效应如何\n",
    "\n",
    "首先求出对照组和实验组的标准差和效应量Cohen's d"
   ],
   "metadata": {
    "collapsed": false
   }
  },
  {
   "cell_type": "code",
   "execution_count": 19,
   "outputs": [
    {
     "name": "stdout",
     "output_type": "stream",
     "text": [
      "效应量Cohen's d: 0.11423211767783437\n"
     ]
    }
   ],
   "source": [
    "#对照组标准差\n",
    "std1=data[data.dmp_id==1].label.std()\n",
    "# 实验组（策略二）标准差\n",
    "std2=data[data.dmp_id==3].label.std()\n",
    "#联合标准差\n",
    "se=np.sqrt(((n_old-1)*std1**2+(n_new-1)*std2**2)/(n_old+n_new-2))\n",
    "# 效应量Cohen's d\n",
    "cohen = (r_new-r_old)/se\n",
    "print(\"效应量Cohen's d:\",cohen)"
   ],
   "metadata": {
    "collapsed": false,
    "pycharm": {
     "name": "#%%\n"
    }
   }
  },
  {
   "cell_type": "markdown",
   "source": [
    "随后计算MDE"
   ],
   "metadata": {
    "collapsed": false
   }
  },
  {
   "cell_type": "code",
   "execution_count": 25,
   "outputs": [
    {
     "name": "stdout",
     "output_type": "stream",
     "text": [
      "MDE: 0.0007341047609042006\n"
     ]
    }
   ],
   "source": [
    "# 显著性水平α,对应z分位数\n",
    "z_alpha = norm.ppf(0.05)\n",
    "\n",
    "# 统计功效1-β,对应z分位数\n",
    "z_beta = norm.ppf(0.2)\n",
    "\n",
    "MDE = (np.abs(z_alpha)+np.abs(z_beta))*np.sqrt((std1**2)/n_old+(std2**2)/n_new)\n",
    "print(\"MDE:\",MDE)"
   ],
   "metadata": {
    "collapsed": false,
    "pycharm": {
     "name": "#%%\n"
    }
   }
  },
  {
   "cell_type": "markdown",
   "source": [
    "**由于Cohen's d > MDE,所以2种方案间有差异，而且非常显著。**\n",
    "\n",
    "## 5. 计算置信区间\n",
    "\n",
    "最后计算2组方案点击率差异的置信区间"
   ],
   "metadata": {
    "collapsed": false,
    "pycharm": {
     "name": "#%% md\n"
    }
   }
  },
  {
   "cell_type": "code",
   "execution_count": 29,
   "outputs": [
    {
     "name": "stdout",
     "output_type": "stream",
     "text": [
      "置信区间:[-0.003909,0.031190]\n"
     ]
    }
   ],
   "source": [
    "CI_a = (r_new-r_old) - z_score*np.sqrt((std1**2)/n_old+(std2**2)/n_new)\n",
    "CI_b = (r_new-r_old) + z_score*np.sqrt((std1**2)/n_old+(std2**2)/n_new)\n",
    "print(\"置信区间:[%f,%f]\"%(np.minimum(CI_a,CI_b),np.maximum(CI_a,CI_b)))"
   ],
   "metadata": {
    "collapsed": false,
    "pycharm": {
     "name": "#%%\n"
    }
   }
  },
  {
   "cell_type": "markdown",
   "source": [
    "## 总结\n",
    "\n",
    "在两种营销策略中，策略二对广告点击率有显著提升效果，且相较于对照组点击率提升了近一倍，因而在两组营销策略中应选择第二组进行推广。"
   ],
   "metadata": {
    "collapsed": false
   }
  },
  {
   "cell_type": "code",
   "execution_count": 32,
   "outputs": [
    {
     "name": "stdout",
     "output_type": "stream",
     "text": [
      "检验统计量z： -59.44168632985996\n",
      "p值： 0.0\n",
      "置信区间:[-0.003909,0.031190]\n"
     ]
    }
   ],
   "source": [
    "print(\"检验统计量z：\",z_score)\n",
    "print(\"p值：\", p)\n",
    "print(\"置信区间:[%f,%f]\"%(np.minimum(CI_a,CI_b),np.maximum(CI_a,CI_b)))"
   ],
   "metadata": {
    "collapsed": false,
    "pycharm": {
     "name": "#%%\n"
    }
   }
  }
 ],
 "metadata": {
  "kernelspec": {
   "display_name": "Python 3",
   "language": "python",
   "name": "python3"
  },
  "language_info": {
   "codemirror_mode": {
    "name": "ipython",
    "version": 2
   },
   "file_extension": ".py",
   "mimetype": "text/x-python",
   "name": "python",
   "nbconvert_exporter": "python",
   "pygments_lexer": "ipython2",
   "version": "2.7.6"
  }
 },
 "nbformat": 4,
 "nbformat_minor": 0
}